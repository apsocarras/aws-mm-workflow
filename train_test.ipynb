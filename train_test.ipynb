{
 "cells": [
  {
   "attachments": {},
   "cell_type": "markdown",
   "id": "49587cb5",
   "metadata": {},
   "source": [
    "Here is a basic example of training two models to work on a multi-modal dataset, one using image data and another not. Data in our pipeline will be directed to the appropriate model according to whether image data is available.\n",
    "\n",
    "This is one of two approaches you could take to a multi-modal workflow. Another is to use a single model trained on multiple data formats which can handle the presence of one format and the absence of another. \n",
    "\n",
    "After training your model, you can encode it in .pkl and upload it to S3. You'll be able to pass that \n"
   ]
  },
  {
   "cell_type": "code",
   "execution_count": 2,
   "id": "683cfd80",
   "metadata": {},
   "outputs": [],
   "source": [
    "import os\n",
    "import numpy as np\n",
    "import pandas as pd\n",
    "import warnings\n",
    "warnings.filterwarnings('ignore')\n",
    "np.random.seed(123)"
   ]
  },
  {
   "cell_type": "code",
   "execution_count": 11,
   "id": "9ba67bb2",
   "metadata": {},
   "outputs": [
    {
     "name": "stdout",
     "output_type": "stream",
     "text": [
      "test, ['tabular', 'img'], ['log_python.txt']\n",
      "test/tabular, [], ['test.csv']\n",
      "test/img, [], ['0a5a7452a.jpg', '0b41e22a9.jpg', '0ad970d41.jpg', '0a8e773aa.jpg', '0a00680eb.jpg', '0a035caf2.jpg', '0b04d7007.jpg', '0b10de1b6.jpg', '0a372b0d4.jpg', '0ad8ed80c.jpg', '0b7b6d9c1.jpg', '000aa306a.jpg', '0a9cbab15.jpg', '0a3d2b273.jpg', '0b5242b0d.jpg', '0a6d1c439.jpg', '00c8a5254.jpg', '0bbbc724a.jpg']\n"
     ]
    }
   ],
   "source": [
    "for d, di, file in os.walk(\"test\"):\n",
    "    print(f\"{d}, {di}, {file}\")"
   ]
  },
  {
   "cell_type": "code",
   "execution_count": 3,
   "id": "434ef016",
   "metadata": {},
   "outputs": [],
   "source": [
    "def process_data(df:pd.DataFrame, split:str) -> pd.DataFrame:\n",
    "    \"\"\"\n",
    "    split (str): train or test \n",
    "    \"\"\"\n",
    "    \n",
    "    df2 = df.copy()\n",
    "    df2.fillna({\"Name\":\"Unnamed\", \"Description\":\"No description\"}, inplace=True)\n",
    "\n",
    "    img_dir = f\"{os.path.abspath('data')}/{split}_images/\"\n",
    "    images = [(f\"{img_dir}/{file}\", file[:-6]) for file in os.listdir(img_dir) if \"-1.jpg\" in file]\n",
    "    images = pd.DataFrame(images, columns=['Image', 'PetID']).set_index(\"PetID\")\n",
    "\n",
    "    df2 = df2.merge(images, how=\"left\", left_on=\"PetID\", right_index=True)\n",
    "\n",
    "    return df2"
   ]
  },
  {
   "cell_type": "code",
   "execution_count": null,
   "id": "7c7b6c3e",
   "metadata": {},
   "outputs": [],
   "source": [
    "# Read Data\n",
    "data = pd.read_csv(\"data/train/train.csv\")\n",
    "data = process_data(data, \"train\")"
   ]
  },
  {
   "cell_type": "code",
   "execution_count": 5,
   "id": "5fb0e81f",
   "metadata": {},
   "outputs": [
    {
     "data": {
      "text/plain": [
       "4    4197\n",
       "2    4037\n",
       "3    3259\n",
       "1    3090\n",
       "0     410\n",
       "Name: AdoptionSpeed, dtype: int64"
      ]
     },
     "execution_count": 5,
     "metadata": {},
     "output_type": "execute_result"
    }
   ],
   "source": [
    "data['AdoptionSpeed'].value_counts()"
   ]
  },
  {
   "cell_type": "markdown",
   "id": "9276ad72",
   "metadata": {},
   "source": [
    "1. The testing data provided does not have AdoptionSpeed label -- probably because the testing data is what the competition holders were using to grade performance. We will take both our training and testing samples from train.csv. \n",
    "\n",
    "2. To simplify task and improve performance, we will group Adoption Speed into two categories: Fast (3-4) and Slow (0-1). We'll drop the middle ranking of 2"
   ]
  },
  {
   "cell_type": "code",
   "execution_count": 6,
   "id": "b4748ded",
   "metadata": {},
   "outputs": [],
   "source": [
    "data = data[data['AdoptionSpeed'] != 2]\n",
    "data['AdoptionSpeed'] = np.where(data['AdoptionSpeed'] > 1, 1, 0)"
   ]
  },
  {
   "cell_type": "code",
   "execution_count": 7,
   "id": "6af7de71",
   "metadata": {},
   "outputs": [],
   "source": [
    "# Filter by images \n",
    "has_images = data[~data['Image'].isna()]"
   ]
  },
  {
   "cell_type": "code",
   "execution_count": 8,
   "id": "2c864c39",
   "metadata": {},
   "outputs": [],
   "source": [
    "# Training and testing samples \n",
    "image_sample = has_images.sample(1000) \n",
    "\n",
    "train_sample = image_sample.sample(800)\n",
    "test_sample = image_sample[~image_sample.index.isin(train_sample.index)]"
   ]
  },
  {
   "cell_type": "markdown",
   "id": "dbaa337d",
   "metadata": {},
   "source": [
    "### Train with Images "
   ]
  },
  {
   "cell_type": "code",
   "execution_count": null,
   "id": "28265de3",
   "metadata": {
    "collapsed": true
   },
   "outputs": [],
   "source": [
    "from autogluon.multimodal import MultiModalPredictor\n",
    "predictor = MultiModalPredictor(label=\"AdoptionSpeed\", \n",
    "                                presets='medium_quality')\n",
    "predictor.fit(\n",
    "    train_data=train_sample,\n",
    "    time_limit=600, # seconds\n",
    ")"
   ]
  },
  {
   "cell_type": "code",
   "execution_count": 17,
   "id": "371ad246",
   "metadata": {},
   "outputs": [
    {
     "name": "stderr",
     "output_type": "stream",
     "text": [
      "Resume training from checkpoint: '/home/ec2-user/AutogluonModels/ag-20230418_201348/last.ckpt'\n"
     ]
    }
   ],
   "source": [
    "# Crashed -- since training progressed enough to generate checkpoint, resume from there\n",
    "predictor = MultiModalPredictor.load(\"/home/ec2-user/AutogluonModels/ag-20230418_201348\", \n",
    "                                    resume=True)"
   ]
  },
  {
   "cell_type": "code",
   "execution_count": 18,
   "id": "5e440be0",
   "metadata": {},
   "outputs": [
    {
     "name": "stderr",
     "output_type": "stream",
     "text": [
      "Global seed set to 123\n",
      "AutoMM starts to create your model. ✨\n",
      "\n",
      "- Model will be saved to \"/home/ec2-user/AutogluonModels/ag-20230418_201348\".\n",
      "\n",
      "- Validation metric is \"roc_auc\".\n",
      "\n",
      "- To track the learning progress, you can open a terminal and launch Tensorboard:\n",
      "    ```shell\n",
      "    # Assume you have installed tensorboard\n",
      "    tensorboard --logdir /home/ec2-user/AutogluonModels/ag-20230418_201348\n",
      "    ```\n",
      "\n",
      "Enjoy your coffee, and let AutoMM do the job ☕☕☕ Learn more at https://auto.gluon.ai\n",
      "\n",
      "GPU available: False, used: False\n",
      "TPU available: False, using: 0 TPU cores\n",
      "IPU available: False, using: 0 IPUs\n",
      "HPU available: False, using: 0 HPUs\n",
      "Restoring states from the checkpoint path at /home/ec2-user/AutogluonModels/ag-20230418_201348/last.ckpt\n",
      "\n",
      "  | Name              | Type                | Params\n",
      "----------------------------------------------------------\n",
      "0 | model             | MultimodalFusionMLP | 20.3 M\n",
      "1 | validation_metric | AUROC               | 0     \n",
      "2 | loss_func         | CrossEntropyLoss    | 0     \n",
      "----------------------------------------------------------\n",
      "20.3 M    Trainable params\n",
      "0         Non-trainable params\n",
      "20.3 M    Total params\n",
      "81.291    Total estimated model params size (MB)\n",
      "Restored all states from the checkpoint file at /home/ec2-user/AutogluonModels/ag-20230418_201348/last.ckpt\n"
     ]
    },
    {
     "name": "stdout",
     "output_type": "stream",
     "text": [
      "Epoch 2:  33%|████▎        | 40/120 [01:37<03:14,  2.43s/it, loss=0.883, v_num=]\n",
      "Validation: 0it [00:00, ?it/s]\u001b[A\n",
      "Validation:   0%|                                        | 0/20 [00:00<?, ?it/s]\u001b[A\n",
      "Validation DataLoader 0:   0%|                           | 0/20 [00:00<?, ?it/s]\u001b[A\n",
      "Epoch 2:  34%|████▍        | 41/120 [01:38<03:09,  2.39s/it, loss=0.883, v_num=]\u001b[A\n",
      "Epoch 2:  35%|████▌        | 42/120 [01:38<03:03,  2.36s/it, loss=0.883, v_num=]\u001b[A\n",
      "Epoch 2:  36%|████▋        | 43/120 [01:39<02:58,  2.31s/it, loss=0.883, v_num=]\u001b[A\n",
      "Epoch 2:  37%|████▊        | 44/120 [01:39<02:52,  2.27s/it, loss=0.883, v_num=]\u001b[A\n",
      "Epoch 2:  38%|████▉        | 45/120 [01:40<02:47,  2.23s/it, loss=0.883, v_num=]\u001b[A\n",
      "Epoch 2:  38%|████▉        | 46/120 [01:41<02:42,  2.20s/it, loss=0.883, v_num=]\u001b[A\n",
      "Epoch 2:  39%|█████        | 47/120 [01:41<02:37,  2.16s/it, loss=0.883, v_num=]\u001b[A\n",
      "Epoch 2:  40%|█████▏       | 48/120 [01:42<02:34,  2.14s/it, loss=0.883, v_num=]\u001b[A\n",
      "Epoch 2:  41%|█████▎       | 49/120 [01:43<02:30,  2.12s/it, loss=0.883, v_num=]\u001b[A\n",
      "Epoch 2:  42%|█████▍       | 50/120 [01:44<02:26,  2.09s/it, loss=0.883, v_num=]\u001b[A\n",
      "Epoch 2:  42%|█████▌       | 51/120 [01:45<02:22,  2.07s/it, loss=0.883, v_num=]\u001b[A\n",
      "Epoch 2:  43%|█████▋       | 52/120 [01:46<02:18,  2.04s/it, loss=0.883, v_num=]\u001b[A\n",
      "Epoch 2:  44%|█████▋       | 53/120 [01:46<02:14,  2.01s/it, loss=0.883, v_num=]\u001b[A\n",
      "Epoch 2:  45%|█████▊       | 54/120 [01:47<02:11,  1.99s/it, loss=0.883, v_num=]\u001b[A\n",
      "Epoch 2:  46%|█████▉       | 55/120 [01:48<02:08,  1.97s/it, loss=0.883, v_num=]\u001b[A\n",
      "Epoch 2:  47%|██████       | 56/120 [01:49<02:04,  1.95s/it, loss=0.883, v_num=]\u001b[A\n",
      "Epoch 2:  48%|██████▏      | 57/120 [01:49<02:01,  1.93s/it, loss=0.883, v_num=]\u001b[A\n",
      "Epoch 2:  48%|██████▎      | 58/120 [01:50<01:57,  1.90s/it, loss=0.883, v_num=]\u001b[A\n",
      "Epoch 2:  49%|██████▍      | 59/120 [01:51<01:54,  1.88s/it, loss=0.883, v_num=]\u001b[A\n",
      "Epoch 2:  50%|██████▌      | 60/120 [01:51<01:51,  1.86s/it, loss=0.883, v_num=]\u001b[A\n",
      "                                                                                \u001b[A"
     ]
    },
    {
     "name": "stderr",
     "output_type": "stream",
     "text": [
      "Epoch 2, global step 12: 'val_roc_auc' reached 0.83602 (best 0.83602), saving model to '/home/ec2-user/AutogluonModels/ag-20230418_201348/epoch=2-step=12.ckpt' as top 3\n"
     ]
    },
    {
     "name": "stdout",
     "output_type": "stream",
     "text": [
      "Epoch 2:  83%|███████████▋  | 100/120 [03:21<00:40,  2.02s/it, loss=0.9, v_num=]\n",
      "Validation: 0it [00:00, ?it/s]\u001b[A\n",
      "Validation:   0%|                                        | 0/20 [00:00<?, ?it/s]\u001b[A\n",
      "Validation DataLoader 0:   0%|                           | 0/20 [00:00<?, ?it/s]\u001b[A\n",
      "Epoch 2:  84%|███████████▊  | 101/120 [03:22<00:38,  2.00s/it, loss=0.9, v_num=]\u001b[A\n",
      "Epoch 2:  85%|███████████▉  | 102/120 [03:23<00:35,  1.99s/it, loss=0.9, v_num=]\u001b[A\n",
      "Epoch 2:  86%|████████████  | 103/120 [03:23<00:33,  1.98s/it, loss=0.9, v_num=]\u001b[A\n",
      "Epoch 2:  87%|████████████▏ | 104/120 [03:24<00:31,  1.96s/it, loss=0.9, v_num=]\u001b[A\n",
      "Epoch 2:  88%|████████████▎ | 105/120 [03:24<00:29,  1.95s/it, loss=0.9, v_num=]\u001b[A\n",
      "Epoch 2:  88%|████████████▎ | 106/120 [03:25<00:27,  1.94s/it, loss=0.9, v_num=]\u001b[A\n",
      "Epoch 2:  89%|████████████▍ | 107/120 [03:25<00:25,  1.92s/it, loss=0.9, v_num=]\u001b[A\n",
      "Epoch 2:  90%|████████████▌ | 108/120 [03:27<00:23,  1.92s/it, loss=0.9, v_num=]\u001b[A\n",
      "Epoch 2:  91%|████████████▋ | 109/120 [03:27<00:20,  1.91s/it, loss=0.9, v_num=]\u001b[A\n",
      "Epoch 2:  92%|████████████▊ | 110/120 [03:28<00:18,  1.90s/it, loss=0.9, v_num=]\u001b[A\n",
      "Epoch 2:  92%|████████████▉ | 111/120 [03:29<00:17,  1.89s/it, loss=0.9, v_num=]\u001b[A\n",
      "Epoch 2:  93%|█████████████ | 112/120 [03:30<00:15,  1.88s/it, loss=0.9, v_num=]\u001b[A\n",
      "Epoch 2:  94%|█████████████▏| 113/120 [03:30<00:13,  1.87s/it, loss=0.9, v_num=]\u001b[A\n",
      "Epoch 2:  95%|█████████████▎| 114/120 [03:31<00:11,  1.86s/it, loss=0.9, v_num=]\u001b[A\n",
      "Epoch 2:  96%|█████████████▍| 115/120 [03:32<00:09,  1.85s/it, loss=0.9, v_num=]\u001b[A\n",
      "Epoch 2:  97%|█████████████▌| 116/120 [03:33<00:07,  1.84s/it, loss=0.9, v_num=]\u001b[A\n",
      "Epoch 2:  98%|█████████████▋| 117/120 [03:34<00:05,  1.83s/it, loss=0.9, v_num=]\u001b[A\n",
      "Epoch 2:  98%|█████████████▊| 118/120 [03:34<00:03,  1.82s/it, loss=0.9, v_num=]\u001b[A\n",
      "Epoch 2:  99%|█████████████▉| 119/120 [03:35<00:01,  1.81s/it, loss=0.9, v_num=]\u001b[A\n",
      "Epoch 2: 100%|██████████████| 120/120 [03:36<00:00,  1.80s/it, loss=0.9, v_num=]\u001b[A\n",
      "                                                                                \u001b[A"
     ]
    },
    {
     "name": "stderr",
     "output_type": "stream",
     "text": [
      "Epoch 2, global step 15: 'val_roc_auc' reached 0.82840 (best 0.83602), saving model to '/home/ec2-user/AutogluonModels/ag-20230418_201348/epoch=2-step=15.ckpt' as top 3\n"
     ]
    },
    {
     "name": "stdout",
     "output_type": "stream",
     "text": [
      "Epoch 3:  33%|████▎        | 40/120 [01:38<03:17,  2.47s/it, loss=0.807, v_num=]\n",
      "Validation: 0it [00:00, ?it/s]\u001b[A\n",
      "Validation:   0%|                                        | 0/20 [00:00<?, ?it/s]\u001b[A\n",
      "Validation DataLoader 0:   0%|                           | 0/20 [00:00<?, ?it/s]\u001b[A\n",
      "Epoch 3:  34%|████▍        | 41/120 [01:39<03:11,  2.42s/it, loss=0.807, v_num=]\u001b[A\n",
      "Epoch 3:  35%|████▌        | 42/120 [01:40<03:06,  2.40s/it, loss=0.807, v_num=]\u001b[A\n",
      "Epoch 3:  36%|████▋        | 43/120 [01:41<03:01,  2.36s/it, loss=0.807, v_num=]\u001b[A\n",
      "Epoch 3:  37%|████▊        | 44/120 [01:41<02:55,  2.31s/it, loss=0.807, v_num=]\u001b[A\n",
      "Epoch 3:  38%|████▉        | 45/120 [01:42<02:50,  2.27s/it, loss=0.807, v_num=]\u001b[A\n",
      "Epoch 3:  38%|████▉        | 46/120 [01:42<02:45,  2.24s/it, loss=0.807, v_num=]\u001b[A\n",
      "Epoch 3:  39%|█████        | 47/120 [01:43<02:40,  2.20s/it, loss=0.807, v_num=]\u001b[A\n",
      "Epoch 3:  40%|█████▏       | 48/120 [01:44<02:36,  2.18s/it, loss=0.807, v_num=]\u001b[A\n",
      "Epoch 3:  41%|█████▎       | 49/120 [01:45<02:32,  2.15s/it, loss=0.807, v_num=]\u001b[A\n",
      "Epoch 3:  42%|█████▍       | 50/120 [01:46<02:28,  2.13s/it, loss=0.807, v_num=]\u001b[A\n",
      "Epoch 3:  42%|█████▌       | 51/120 [01:47<02:25,  2.10s/it, loss=0.807, v_num=]\u001b[A\n",
      "Epoch 3:  43%|█████▋       | 52/120 [01:47<02:20,  2.07s/it, loss=0.807, v_num=]\u001b[A\n",
      "Epoch 3:  44%|█████▋       | 53/120 [01:48<02:16,  2.04s/it, loss=0.807, v_num=]\u001b[A\n",
      "Epoch 3:  45%|█████▊       | 54/120 [01:48<02:13,  2.02s/it, loss=0.807, v_num=]\u001b[A\n",
      "Epoch 3:  46%|█████▉       | 55/120 [01:50<02:10,  2.00s/it, loss=0.807, v_num=]\u001b[A\n",
      "Epoch 3:  47%|██████       | 56/120 [01:50<02:06,  1.98s/it, loss=0.807, v_num=]\u001b[A\n",
      "Epoch 3:  48%|██████▏      | 57/120 [01:51<02:02,  1.95s/it, loss=0.807, v_num=]\u001b[A\n",
      "Epoch 3:  48%|██████▎      | 58/120 [01:51<01:59,  1.92s/it, loss=0.807, v_num=]\u001b[A\n",
      "Epoch 3:  49%|██████▍      | 59/120 [01:52<01:56,  1.91s/it, loss=0.807, v_num=]\u001b[A\n",
      "Epoch 3:  50%|██████▌      | 60/120 [01:53<01:53,  1.89s/it, loss=0.807, v_num=]\u001b[A\n",
      "                                                                                \u001b[A"
     ]
    },
    {
     "name": "stderr",
     "output_type": "stream",
     "text": [
      "Epoch 3, global step 17: 'val_roc_auc' reached 0.81074 (best 0.83602), saving model to '/home/ec2-user/AutogluonModels/ag-20230418_201348/epoch=3-step=17.ckpt' as top 3\n"
     ]
    },
    {
     "name": "stdout",
     "output_type": "stream",
     "text": [
      "Epoch 3:  83%|██████████  | 100/120 [03:18<00:39,  1.99s/it, loss=0.773, v_num=]\n",
      "Validation: 0it [00:00, ?it/s]\u001b[A\n",
      "Validation:   0%|                                        | 0/20 [00:00<?, ?it/s]\u001b[A\n",
      "Validation DataLoader 0:   0%|                           | 0/20 [00:00<?, ?it/s]\u001b[A\n",
      "Epoch 3:  84%|██████████  | 101/120 [03:19<00:37,  1.98s/it, loss=0.773, v_num=]\u001b[A\n",
      "Epoch 3:  85%|██████████▏ | 102/120 [03:20<00:35,  1.96s/it, loss=0.773, v_num=]\u001b[A\n",
      "Epoch 3:  86%|██████████▎ | 103/120 [03:20<00:33,  1.95s/it, loss=0.773, v_num=]\u001b[A\n",
      "Epoch 3:  87%|██████████▍ | 104/120 [03:21<00:30,  1.94s/it, loss=0.773, v_num=]\u001b[A\n",
      "Epoch 3:  88%|██████████▌ | 105/120 [03:22<00:28,  1.92s/it, loss=0.773, v_num=]\u001b[A\n",
      "Epoch 3:  88%|██████████▌ | 106/120 [03:22<00:26,  1.91s/it, loss=0.773, v_num=]\u001b[A\n",
      "Epoch 3:  89%|██████████▋ | 107/120 [03:23<00:24,  1.90s/it, loss=0.773, v_num=]\u001b[A\n",
      "Epoch 3:  90%|██████████▊ | 108/120 [03:24<00:22,  1.89s/it, loss=0.773, v_num=]\u001b[A\n",
      "Epoch 3:  91%|██████████▉ | 109/120 [03:25<00:20,  1.88s/it, loss=0.773, v_num=]\u001b[A\n",
      "Epoch 3:  92%|███████████ | 110/120 [03:25<00:18,  1.87s/it, loss=0.773, v_num=]\u001b[A\n",
      "Epoch 3:  92%|███████████ | 111/120 [03:26<00:16,  1.86s/it, loss=0.773, v_num=]\u001b[A\n",
      "Epoch 3:  93%|███████████▏| 112/120 [03:27<00:14,  1.85s/it, loss=0.773, v_num=]\u001b[A\n",
      "Epoch 3:  94%|███████████▎| 113/120 [03:27<00:12,  1.84s/it, loss=0.773, v_num=]\u001b[A\n",
      "Epoch 3:  95%|███████████▍| 114/120 [03:28<00:10,  1.83s/it, loss=0.773, v_num=]\u001b[A\n",
      "Epoch 3:  96%|███████████▌| 115/120 [03:29<00:09,  1.82s/it, loss=0.773, v_num=]\u001b[A\n",
      "Epoch 3:  97%|███████████▌| 116/120 [03:30<00:07,  1.82s/it, loss=0.773, v_num=]\u001b[A\n",
      "Epoch 3:  98%|███████████▋| 117/120 [03:31<00:05,  1.81s/it, loss=0.773, v_num=]\u001b[A\n",
      "Epoch 3:  98%|███████████▊| 118/120 [03:31<00:03,  1.79s/it, loss=0.773, v_num=]\u001b[A\n",
      "Epoch 3:  99%|███████████▉| 119/120 [03:32<00:01,  1.79s/it, loss=0.773, v_num=]\u001b[A\n",
      "Epoch 3: 100%|████████████| 120/120 [03:33<00:00,  1.78s/it, loss=0.773, v_num=]\u001b[A\n",
      "                                                                                \u001b[A"
     ]
    },
    {
     "name": "stderr",
     "output_type": "stream",
     "text": [
      "Epoch 3, global step 20: 'val_roc_auc' reached 0.81697 (best 0.83602), saving model to '/home/ec2-user/AutogluonModels/ag-20230418_201348/epoch=3-step=20.ckpt' as top 3\n"
     ]
    },
    {
     "name": "stdout",
     "output_type": "stream",
     "text": [
      "Epoch 4:  33%|████▎        | 40/120 [01:32<03:05,  2.32s/it, loss=0.769, v_num=]\n",
      "Validation: 0it [00:00, ?it/s]\u001b[A\n",
      "Validation:   0%|                                        | 0/20 [00:00<?, ?it/s]\u001b[A\n",
      "Validation DataLoader 0:   0%|                           | 0/20 [00:00<?, ?it/s]\u001b[A\n",
      "Epoch 4:  34%|████▍        | 41/120 [01:33<03:00,  2.28s/it, loss=0.769, v_num=]\u001b[A\n",
      "Epoch 4:  35%|████▌        | 42/120 [01:34<02:55,  2.25s/it, loss=0.769, v_num=]\u001b[A\n",
      "Epoch 4:  36%|████▋        | 43/120 [01:34<02:49,  2.20s/it, loss=0.769, v_num=]\u001b[A\n",
      "Epoch 4:  37%|████▊        | 44/120 [01:35<02:44,  2.17s/it, loss=0.769, v_num=]\u001b[A\n",
      "Epoch 4:  38%|████▉        | 45/120 [01:35<02:39,  2.13s/it, loss=0.769, v_num=]\u001b[A\n",
      "Epoch 4:  38%|████▉        | 46/120 [01:36<02:35,  2.10s/it, loss=0.769, v_num=]\u001b[A\n",
      "Epoch 4:  39%|█████        | 47/120 [01:37<02:30,  2.06s/it, loss=0.769, v_num=]\u001b[A\n",
      "Epoch 4:  40%|█████▏       | 48/120 [01:38<02:27,  2.05s/it, loss=0.769, v_num=]\u001b[A\n",
      "Epoch 4:  41%|█████▎       | 49/120 [01:38<02:23,  2.02s/it, loss=0.769, v_num=]\u001b[A\n",
      "Epoch 4:  42%|█████▍       | 50/120 [01:39<02:19,  2.00s/it, loss=0.769, v_num=]\u001b[A\n",
      "Epoch 4:  42%|█████▌       | 51/120 [01:40<02:16,  1.98s/it, loss=0.769, v_num=]\u001b[A\n",
      "Epoch 4:  43%|█████▋       | 52/120 [01:41<02:12,  1.95s/it, loss=0.769, v_num=]\u001b[A\n",
      "Epoch 4:  44%|█████▋       | 53/120 [01:41<02:08,  1.92s/it, loss=0.769, v_num=]\u001b[A\n",
      "Epoch 4:  45%|█████▊       | 54/120 [01:42<02:05,  1.90s/it, loss=0.769, v_num=]\u001b[A\n",
      "Epoch 4:  46%|█████▉       | 55/120 [01:44<02:03,  1.89s/it, loss=0.769, v_num=]\u001b[A\n",
      "Epoch 4:  47%|██████       | 56/120 [01:44<01:59,  1.87s/it, loss=0.769, v_num=]\u001b[A\n",
      "Epoch 4:  48%|██████▏      | 57/120 [01:45<01:56,  1.85s/it, loss=0.769, v_num=]\u001b[A\n",
      "Epoch 4:  48%|██████▎      | 58/120 [01:45<01:53,  1.82s/it, loss=0.769, v_num=]\u001b[A\n",
      "Epoch 4:  49%|██████▍      | 59/120 [01:46<01:50,  1.81s/it, loss=0.769, v_num=]\u001b[A\n",
      "Epoch 4:  50%|██████▌      | 60/120 [01:47<01:47,  1.79s/it, loss=0.769, v_num=]\u001b[A\n",
      "                                                                                \u001b[A"
     ]
    },
    {
     "name": "stderr",
     "output_type": "stream",
     "text": [
      "Epoch 4, global step 22: 'val_roc_auc' was not in top 3\n"
     ]
    },
    {
     "name": "stdout",
     "output_type": "stream",
     "text": [
      "Epoch 4:  83%|██████████  | 100/120 [03:17<00:39,  1.98s/it, loss=0.678, v_num=]\n",
      "Validation: 0it [00:00, ?it/s]\u001b[A\n",
      "Validation:   0%|                                        | 0/20 [00:00<?, ?it/s]\u001b[A\n",
      "Validation DataLoader 0:   0%|                           | 0/20 [00:00<?, ?it/s]\u001b[A\n",
      "Epoch 4:  84%|██████████  | 101/120 [03:18<00:37,  1.96s/it, loss=0.678, v_num=]\u001b[A\n",
      "Epoch 4:  85%|██████████▏ | 102/120 [03:19<00:35,  1.95s/it, loss=0.678, v_num=]\u001b[A\n",
      "Epoch 4:  86%|██████████▎ | 103/120 [03:19<00:32,  1.94s/it, loss=0.678, v_num=]\u001b[A\n",
      "Epoch 4:  87%|██████████▍ | 104/120 [03:20<00:30,  1.93s/it, loss=0.678, v_num=]\u001b[A\n",
      "Epoch 4:  88%|██████████▌ | 105/120 [03:20<00:28,  1.91s/it, loss=0.678, v_num=]\u001b[A\n",
      "Epoch 4:  88%|██████████▌ | 106/120 [03:21<00:26,  1.90s/it, loss=0.678, v_num=]\u001b[A\n",
      "Epoch 4:  89%|██████████▋ | 107/120 [03:21<00:24,  1.89s/it, loss=0.678, v_num=]\u001b[A\n",
      "Epoch 4:  90%|██████████▊ | 108/120 [03:23<00:22,  1.88s/it, loss=0.678, v_num=]\u001b[A\n",
      "Epoch 4:  91%|██████████▉ | 109/120 [03:24<00:20,  1.87s/it, loss=0.678, v_num=]\u001b[A\n",
      "Epoch 4:  92%|███████████ | 110/120 [03:24<00:18,  1.86s/it, loss=0.678, v_num=]\u001b[A\n",
      "Epoch 4:  92%|███████████ | 111/120 [03:25<00:16,  1.85s/it, loss=0.678, v_num=]\u001b[A\n",
      "Epoch 4:  93%|███████████▏| 112/120 [03:26<00:14,  1.84s/it, loss=0.678, v_num=]\u001b[A\n",
      "Epoch 4:  94%|███████████▎| 113/120 [03:26<00:12,  1.83s/it, loss=0.678, v_num=]\u001b[A\n",
      "Epoch 4:  95%|███████████▍| 114/120 [03:27<00:10,  1.82s/it, loss=0.678, v_num=]\u001b[A\n",
      "Epoch 4:  96%|███████████▌| 115/120 [03:28<00:09,  1.82s/it, loss=0.678, v_num=]\u001b[A\n",
      "Epoch 4:  97%|███████████▌| 116/120 [03:29<00:07,  1.81s/it, loss=0.678, v_num=]\u001b[A\n",
      "Epoch 4:  98%|███████████▋| 117/120 [03:29<00:05,  1.79s/it, loss=0.678, v_num=]\u001b[A\n",
      "Epoch 4:  98%|███████████▊| 118/120 [03:30<00:03,  1.78s/it, loss=0.678, v_num=]\u001b[A\n",
      "Epoch 4:  99%|███████████▉| 119/120 [03:31<00:01,  1.78s/it, loss=0.678, v_num=]\u001b[A\n",
      "Epoch 4: 100%|████████████| 120/120 [03:32<00:00,  1.77s/it, loss=0.678, v_num=]\u001b[A\n",
      "                                                                                \u001b[A"
     ]
    },
    {
     "name": "stderr",
     "output_type": "stream",
     "text": [
      "Epoch 4, global step 25: 'val_roc_auc' was not in top 3\n"
     ]
    },
    {
     "name": "stdout",
     "output_type": "stream",
     "text": [
      "Epoch 5:  33%|████▎        | 40/120 [01:26<02:52,  2.16s/it, loss=0.603, v_num=]\n",
      "Validation: 0it [00:00, ?it/s]\u001b[A\n",
      "Validation:   0%|                                        | 0/20 [00:00<?, ?it/s]\u001b[A\n",
      "Validation DataLoader 0:   0%|                           | 0/20 [00:00<?, ?it/s]\u001b[A\n",
      "Epoch 5:  34%|████▍        | 41/120 [01:27<02:47,  2.12s/it, loss=0.603, v_num=]\u001b[A\n",
      "Epoch 5:  35%|████▌        | 42/120 [01:27<02:43,  2.09s/it, loss=0.603, v_num=]\u001b[A\n",
      "Epoch 5:  36%|████▋        | 43/120 [01:28<02:38,  2.06s/it, loss=0.603, v_num=]\u001b[A\n",
      "Epoch 5:  37%|████▊        | 44/120 [01:29<02:33,  2.02s/it, loss=0.603, v_num=]\u001b[A\n",
      "Epoch 5:  38%|████▉        | 45/120 [01:29<02:29,  1.99s/it, loss=0.603, v_num=]\u001b[A\n",
      "Epoch 5:  38%|████▉        | 46/120 [01:30<02:25,  1.96s/it, loss=0.603, v_num=]\u001b[A\n",
      "Epoch 5:  39%|█████        | 47/120 [01:30<02:21,  1.93s/it, loss=0.603, v_num=]\u001b[A\n",
      "Epoch 5:  40%|█████▏       | 48/120 [01:32<02:18,  1.92s/it, loss=0.603, v_num=]\u001b[A\n",
      "Epoch 5:  41%|█████▎       | 49/120 [01:32<02:14,  1.90s/it, loss=0.603, v_num=]\u001b[A\n",
      "Epoch 5:  42%|█████▍       | 50/120 [01:33<02:11,  1.88s/it, loss=0.603, v_num=]\u001b[A\n",
      "Epoch 5:  42%|█████▌       | 51/120 [01:34<02:08,  1.86s/it, loss=0.603, v_num=]\u001b[A\n",
      "Epoch 5:  43%|█████▋       | 52/120 [01:35<02:04,  1.83s/it, loss=0.603, v_num=]\u001b[A\n",
      "Epoch 5:  44%|█████▋       | 53/120 [01:35<02:01,  1.81s/it, loss=0.603, v_num=]\u001b[A\n",
      "Epoch 5:  45%|█████▊       | 54/120 [01:36<01:57,  1.79s/it, loss=0.603, v_num=]\u001b[A\n",
      "Epoch 5:  46%|█████▉       | 55/120 [01:37<01:55,  1.77s/it, loss=0.603, v_num=]\u001b[A\n",
      "Epoch 5:  47%|██████       | 56/120 [01:38<01:52,  1.76s/it, loss=0.603, v_num=]\u001b[A\n",
      "Epoch 5:  48%|██████▏      | 57/120 [01:38<01:49,  1.73s/it, loss=0.603, v_num=]\u001b[A\n",
      "Epoch 5:  48%|██████▎      | 58/120 [01:39<01:45,  1.71s/it, loss=0.603, v_num=]\u001b[A\n",
      "Epoch 5:  49%|██████▍      | 59/120 [01:40<01:43,  1.70s/it, loss=0.603, v_num=]\u001b[A\n",
      "Epoch 5:  50%|██████▌      | 60/120 [01:40<01:40,  1.68s/it, loss=0.603, v_num=]\u001b[A\n",
      "                                                                                \u001b[A"
     ]
    },
    {
     "name": "stderr",
     "output_type": "stream",
     "text": [
      "Epoch 5, global step 27: 'val_roc_auc' reached 0.81766 (best 0.83602), saving model to '/home/ec2-user/AutogluonModels/ag-20230418_201348/epoch=5-step=27.ckpt' as top 3\n"
     ]
    },
    {
     "name": "stdout",
     "output_type": "stream",
     "text": [
      "Epoch 5:  83%|██████████  | 100/120 [03:19<00:39,  2.00s/it, loss=0.612, v_num=]\n",
      "Validation: 0it [00:00, ?it/s]\u001b[A\n",
      "Validation:   0%|                                        | 0/20 [00:00<?, ?it/s]\u001b[A\n",
      "Validation DataLoader 0:   0%|                           | 0/20 [00:00<?, ?it/s]\u001b[A\n",
      "Epoch 5:  84%|██████████  | 101/120 [03:20<00:37,  1.99s/it, loss=0.612, v_num=]\u001b[A\n",
      "Epoch 5:  85%|██████████▏ | 102/120 [03:21<00:35,  1.98s/it, loss=0.612, v_num=]\u001b[A\n",
      "Epoch 5:  86%|██████████▎ | 103/120 [03:22<00:33,  1.96s/it, loss=0.612, v_num=]\u001b[A\n",
      "Epoch 5:  87%|██████████▍ | 104/120 [03:22<00:31,  1.95s/it, loss=0.612, v_num=]\u001b[A\n",
      "Epoch 5:  88%|██████████▌ | 105/120 [03:23<00:29,  1.93s/it, loss=0.612, v_num=]\u001b[A\n",
      "Epoch 5:  88%|██████████▌ | 106/120 [03:23<00:26,  1.92s/it, loss=0.612, v_num=]\u001b[A\n",
      "Epoch 5:  89%|██████████▋ | 107/120 [03:24<00:24,  1.91s/it, loss=0.612, v_num=]\u001b[A\n",
      "Epoch 5:  90%|██████████▊ | 108/120 [03:25<00:22,  1.90s/it, loss=0.612, v_num=]\u001b[A\n",
      "Epoch 5:  91%|██████████▉ | 109/120 [03:26<00:20,  1.89s/it, loss=0.612, v_num=]\u001b[A\n",
      "Epoch 5:  92%|███████████ | 110/120 [03:27<00:18,  1.88s/it, loss=0.612, v_num=]\u001b[A\n",
      "Epoch 5:  92%|███████████ | 111/120 [03:28<00:16,  1.87s/it, loss=0.612, v_num=]\u001b[A\n",
      "Epoch 5:  93%|███████████▏| 112/120 [03:28<00:14,  1.87s/it, loss=0.612, v_num=]\u001b[A\n",
      "Epoch 5:  94%|███████████▎| 113/120 [03:29<00:12,  1.85s/it, loss=0.612, v_num=]\u001b[A\n",
      "Epoch 5:  95%|███████████▍| 114/120 [03:30<00:11,  1.84s/it, loss=0.612, v_num=]\u001b[A\n",
      "Epoch 5:  96%|███████████▌| 115/120 [03:31<00:09,  1.84s/it, loss=0.612, v_num=]\u001b[A\n",
      "Epoch 5:  97%|███████████▌| 116/120 [03:32<00:07,  1.83s/it, loss=0.612, v_num=]\u001b[A\n",
      "Epoch 5:  98%|███████████▋| 117/120 [03:32<00:05,  1.82s/it, loss=0.612, v_num=]\u001b[A\n",
      "Epoch 5:  98%|███████████▊| 118/120 [03:32<00:03,  1.80s/it, loss=0.612, v_num=]\u001b[A\n",
      "Epoch 5:  99%|███████████▉| 119/120 [03:33<00:01,  1.80s/it, loss=0.612, v_num=]\u001b[A\n",
      "Epoch 5: 100%|████████████| 120/120 [03:34<00:00,  1.79s/it, loss=0.612, v_num=]\u001b[A\n",
      "                                                                                \u001b[A"
     ]
    },
    {
     "name": "stderr",
     "output_type": "stream",
     "text": [
      "Epoch 5, global step 30: 'val_roc_auc' reached 0.82043 (best 0.83602), saving model to '/home/ec2-user/AutogluonModels/ag-20230418_201348/epoch=5-step=30.ckpt' as top 3\n"
     ]
    },
    {
     "name": "stdout",
     "output_type": "stream",
     "text": [
      "Epoch 6:  33%|████▎        | 40/120 [01:31<03:02,  2.28s/it, loss=0.522, v_num=]\n",
      "Validation: 0it [00:00, ?it/s]\u001b[A\n",
      "Validation:   0%|                                        | 0/20 [00:00<?, ?it/s]\u001b[A\n",
      "Validation DataLoader 0:   0%|                           | 0/20 [00:00<?, ?it/s]\u001b[A\n",
      "Epoch 6:  34%|████▍        | 41/120 [01:32<02:57,  2.25s/it, loss=0.522, v_num=]\u001b[A\n",
      "Epoch 6:  35%|████▌        | 42/120 [01:32<02:52,  2.21s/it, loss=0.522, v_num=]\u001b[A\n",
      "Epoch 6:  36%|████▋        | 43/120 [01:33<02:47,  2.17s/it, loss=0.522, v_num=]\u001b[A\n",
      "Epoch 6:  37%|████▊        | 44/120 [01:33<02:42,  2.13s/it, loss=0.522, v_num=]\u001b[A\n",
      "Epoch 6:  38%|████▉        | 45/120 [01:34<02:37,  2.10s/it, loss=0.522, v_num=]\u001b[A\n",
      "Epoch 6:  38%|████▉        | 46/120 [01:34<02:32,  2.07s/it, loss=0.522, v_num=]\u001b[A\n",
      "Epoch 6:  39%|█████        | 47/120 [01:35<02:28,  2.03s/it, loss=0.522, v_num=]\u001b[A\n",
      "Epoch 6:  40%|█████▏       | 48/120 [01:36<02:25,  2.02s/it, loss=0.522, v_num=]\u001b[A\n",
      "Epoch 6:  41%|█████▎       | 49/120 [01:37<02:21,  1.99s/it, loss=0.522, v_num=]\u001b[A\n",
      "Epoch 6:  42%|█████▍       | 50/120 [01:38<02:17,  1.97s/it, loss=0.522, v_num=]\u001b[A\n",
      "Epoch 6:  42%|█████▌       | 51/120 [01:39<02:14,  1.95s/it, loss=0.522, v_num=]\u001b[A\n",
      "Epoch 6:  43%|█████▋       | 52/120 [01:40<02:10,  1.92s/it, loss=0.522, v_num=]\u001b[A\n",
      "Epoch 6:  44%|█████▋       | 53/120 [01:40<02:07,  1.90s/it, loss=0.522, v_num=]\u001b[A\n",
      "Epoch 6:  45%|█████▊       | 54/120 [01:41<02:03,  1.87s/it, loss=0.522, v_num=]\u001b[A\n",
      "Epoch 6:  46%|█████▉       | 55/120 [01:42<02:00,  1.86s/it, loss=0.522, v_num=]\u001b[A\n",
      "Epoch 6:  47%|██████       | 56/120 [01:43<01:57,  1.84s/it, loss=0.522, v_num=]\u001b[A\n",
      "Epoch 6:  48%|██████▏      | 57/120 [01:43<01:54,  1.82s/it, loss=0.522, v_num=]\u001b[A\n",
      "Epoch 6:  48%|██████▎      | 58/120 [01:43<01:51,  1.79s/it, loss=0.522, v_num=]\u001b[A\n",
      "Epoch 6:  49%|██████▍      | 59/120 [01:44<01:48,  1.78s/it, loss=0.522, v_num=]\u001b[A\n",
      "Epoch 6:  50%|██████▌      | 60/120 [01:45<01:45,  1.76s/it, loss=0.522, v_num=]\u001b[A\n",
      "                                                                                \u001b[A"
     ]
    },
    {
     "name": "stderr",
     "output_type": "stream",
     "text": [
      "Epoch 6, global step 32: 'val_roc_auc' reached 0.82147 (best 0.83602), saving model to '/home/ec2-user/AutogluonModels/ag-20230418_201348/epoch=6-step=32.ckpt' as top 3\n"
     ]
    },
    {
     "name": "stdout",
     "output_type": "stream",
     "text": [
      "Epoch 6:  83%|██████████  | 100/120 [03:15<00:39,  1.95s/it, loss=0.663, v_num=]\n",
      "Validation: 0it [00:00, ?it/s]\u001b[A\n",
      "Validation:   0%|                                        | 0/20 [00:00<?, ?it/s]\u001b[A\n",
      "Validation DataLoader 0:   0%|                           | 0/20 [00:00<?, ?it/s]\u001b[A\n",
      "Epoch 6:  84%|██████████  | 101/120 [03:15<00:36,  1.94s/it, loss=0.663, v_num=]\u001b[A\n",
      "Epoch 6:  85%|██████████▏ | 102/120 [03:16<00:34,  1.93s/it, loss=0.663, v_num=]\u001b[A\n",
      "Epoch 6:  86%|██████████▎ | 103/120 [03:17<00:32,  1.91s/it, loss=0.663, v_num=]\u001b[A\n",
      "Epoch 6:  87%|██████████▍ | 104/120 [03:17<00:30,  1.90s/it, loss=0.663, v_num=]\u001b[A\n",
      "Epoch 6:  88%|██████████▌ | 105/120 [03:18<00:28,  1.89s/it, loss=0.663, v_num=]\u001b[A\n",
      "Epoch 6:  88%|██████████▌ | 106/120 [03:18<00:26,  1.87s/it, loss=0.663, v_num=]\u001b[A\n",
      "Epoch 6:  89%|██████████▋ | 107/120 [03:19<00:24,  1.86s/it, loss=0.663, v_num=]\u001b[A\n",
      "Epoch 6:  90%|██████████▊ | 108/120 [03:20<00:22,  1.86s/it, loss=0.663, v_num=]\u001b[A\n",
      "Epoch 6:  91%|██████████▉ | 109/120 [03:21<00:20,  1.85s/it, loss=0.663, v_num=]\u001b[A\n",
      "Epoch 6:  92%|███████████ | 110/120 [03:22<00:18,  1.84s/it, loss=0.663, v_num=]\u001b[A\n",
      "Epoch 6:  92%|███████████ | 111/120 [03:22<00:16,  1.83s/it, loss=0.663, v_num=]\u001b[A\n",
      "Epoch 6:  93%|███████████▏| 112/120 [03:23<00:14,  1.82s/it, loss=0.663, v_num=]\u001b[A\n",
      "Epoch 6:  94%|███████████▎| 113/120 [03:24<00:12,  1.81s/it, loss=0.663, v_num=]\u001b[A\n",
      "Epoch 6:  95%|███████████▍| 114/120 [03:24<00:10,  1.80s/it, loss=0.663, v_num=]\u001b[A\n",
      "Epoch 6:  96%|███████████▌| 115/120 [03:26<00:08,  1.79s/it, loss=0.663, v_num=]\u001b[A\n",
      "Epoch 6:  97%|███████████▌| 116/120 [03:27<00:07,  1.79s/it, loss=0.663, v_num=]\u001b[A\n",
      "Epoch 6:  98%|███████████▋| 117/120 [03:27<00:05,  1.77s/it, loss=0.663, v_num=]\u001b[A\n",
      "Epoch 6:  98%|███████████▊| 118/120 [03:27<00:03,  1.76s/it, loss=0.663, v_num=]\u001b[A\n",
      "Epoch 6:  99%|███████████▉| 119/120 [03:28<00:01,  1.75s/it, loss=0.663, v_num=]\u001b[A\n",
      "Epoch 6: 100%|████████████| 120/120 [03:29<00:00,  1.75s/it, loss=0.663, v_num=]\u001b[A\n",
      "                                                                                \u001b[A"
     ]
    },
    {
     "name": "stderr",
     "output_type": "stream",
     "text": [
      "Epoch 6, global step 35: 'val_roc_auc' was not in top 3\n"
     ]
    },
    {
     "name": "stdout",
     "output_type": "stream",
     "text": [
      "Epoch 7:  33%|████▎        | 40/120 [01:37<03:14,  2.43s/it, loss=0.587, v_num=]\n",
      "Validation: 0it [00:00, ?it/s]\u001b[A\n",
      "Validation:   0%|                                        | 0/20 [00:00<?, ?it/s]\u001b[A\n",
      "Validation DataLoader 0:   0%|                           | 0/20 [00:00<?, ?it/s]\u001b[A\n",
      "Epoch 7:  34%|████▍        | 41/120 [01:37<03:08,  2.39s/it, loss=0.587, v_num=]\u001b[A\n",
      "Epoch 7:  35%|████▌        | 42/120 [01:38<03:03,  2.35s/it, loss=0.587, v_num=]\u001b[A\n",
      "Epoch 7:  36%|████▋        | 43/120 [01:39<02:57,  2.30s/it, loss=0.587, v_num=]\u001b[A\n",
      "Epoch 7:  37%|████▊        | 44/120 [01:39<02:51,  2.26s/it, loss=0.587, v_num=]\u001b[A\n",
      "Epoch 7:  38%|████▉        | 45/120 [01:40<02:46,  2.22s/it, loss=0.587, v_num=]\u001b[A\n",
      "Epoch 7:  38%|████▉        | 46/120 [01:40<02:41,  2.19s/it, loss=0.587, v_num=]\u001b[A\n",
      "Epoch 7:  39%|█████        | 47/120 [01:41<02:37,  2.15s/it, loss=0.587, v_num=]\u001b[A\n",
      "Epoch 7:  40%|█████▏       | 48/120 [01:42<02:33,  2.13s/it, loss=0.587, v_num=]\u001b[A\n",
      "Epoch 7:  41%|█████▎       | 49/120 [01:43<02:29,  2.10s/it, loss=0.587, v_num=]\u001b[A\n",
      "Epoch 7:  42%|█████▍       | 50/120 [01:43<02:25,  2.08s/it, loss=0.587, v_num=]\u001b[A\n",
      "Epoch 7:  42%|█████▌       | 51/120 [01:44<02:21,  2.06s/it, loss=0.587, v_num=]\u001b[A\n",
      "Epoch 7:  43%|█████▋       | 52/120 [01:45<02:18,  2.03s/it, loss=0.587, v_num=]\u001b[A\n",
      "Epoch 7:  44%|█████▋       | 53/120 [01:45<02:13,  2.00s/it, loss=0.587, v_num=]\u001b[A\n",
      "Epoch 7:  45%|█████▊       | 54/120 [01:46<02:10,  1.97s/it, loss=0.587, v_num=]\u001b[A\n",
      "Epoch 7:  46%|█████▉       | 55/120 [01:47<02:07,  1.96s/it, loss=0.587, v_num=]\u001b[A\n",
      "Epoch 7:  47%|██████       | 56/120 [01:48<02:04,  1.94s/it, loss=0.587, v_num=]\u001b[A\n",
      "Epoch 7:  48%|██████▏      | 57/120 [01:48<02:00,  1.91s/it, loss=0.587, v_num=]\u001b[A\n",
      "Epoch 7:  48%|██████▎      | 58/120 [01:49<01:56,  1.88s/it, loss=0.587, v_num=]\u001b[A\n",
      "Epoch 7:  49%|██████▍      | 59/120 [01:50<01:54,  1.87s/it, loss=0.587, v_num=]\u001b[A\n",
      "Epoch 7:  50%|██████▌      | 60/120 [01:51<01:51,  1.85s/it, loss=0.587, v_num=]\u001b[A\n",
      "                                                                                \u001b[A"
     ]
    },
    {
     "name": "stderr",
     "output_type": "stream",
     "text": [
      "Epoch 7, global step 37: 'val_roc_auc' was not in top 3\n"
     ]
    },
    {
     "name": "stdout",
     "output_type": "stream",
     "text": [
      "Epoch 7:  50%|██████▌      | 60/120 [01:53<01:53,  1.89s/it, loss=0.587, v_num=]\n"
     ]
    },
    {
     "name": "stderr",
     "output_type": "stream",
     "text": [
      "Start to fuse 3 checkpoints via the greedy soup algorithm.\n"
     ]
    },
    {
     "name": "stdout",
     "output_type": "stream",
     "text": [
      "Predicting DataLoader 0: 100%|████████████████████| 5/5 [00:22<00:00,  4.56s/it]\n",
      "Predicting DataLoader 0: 100%|████████████████████| 5/5 [00:22<00:00,  4.57s/it]\n",
      "Predicting DataLoader 0: 100%|████████████████████| 5/5 [00:22<00:00,  4.52s/it]\n"
     ]
    },
    {
     "name": "stderr",
     "output_type": "stream",
     "text": [
      "AutoMM has created your model 🎉🎉🎉\n",
      "\n",
      "- To load the model, use the code below:\n",
      "    ```python\n",
      "    from autogluon.multimodal import MultiModalPredictor\n",
      "    predictor = MultiModalPredictor.load(\"/home/ec2-user/AutogluonModels/ag-20230418_201348\")\n",
      "    ```\n",
      "\n",
      "- You can open a terminal and launch Tensorboard to visualize the training log:\n",
      "    ```shell\n",
      "    # Assume you have installed tensorboard\n",
      "    tensorboard --logdir /home/ec2-user/AutogluonModels/ag-20230418_201348\n",
      "    ```\n",
      "\n",
      "- If you are not satisfied with the model, try to increase the training time, \n",
      "adjust the hyperparameters (https://auto.gluon.ai/stable/tutorials/multimodal/advanced_topics/customization.html),\n",
      "or post issues on GitHub: https://github.com/autogluon/autogluon\n",
      "\n",
      "\n"
     ]
    },
    {
     "data": {
      "text/plain": [
       "<autogluon.multimodal.predictor.MultiModalPredictor at 0x7f33e3214b50>"
      ]
     },
     "execution_count": 18,
     "metadata": {},
     "output_type": "execute_result"
    }
   ],
   "source": [
    "predictor.fit(train_sample)"
   ]
  },
  {
   "cell_type": "code",
   "execution_count": 19,
   "id": "91d647ae",
   "metadata": {},
   "outputs": [
    {
     "name": "stderr",
     "output_type": "stream",
     "text": [
      "Load pretrained checkpoint: /home/ec2-user/AutogluonModels/ag-20230418_201348/model.ckpt\n"
     ]
    }
   ],
   "source": [
    "# On completion, load in again without \"resume\" parameter\n",
    "from autogluon.multimodal import MultiModalPredictor\n",
    "predictor = MultiModalPredictor.load(\"/home/ec2-user/AutogluonModels/ag-20230418_201348\")\n"
   ]
  },
  {
   "cell_type": "code",
   "execution_count": 21,
   "id": "3d4aa7bf",
   "metadata": {},
   "outputs": [
    {
     "name": "stdout",
     "output_type": "stream",
     "text": [
      "Predicting DataLoader 0: 100%|████████████████████| 7/7 [00:26<00:00,  3.76s/it]\n"
     ]
    },
    {
     "data": {
      "text/plain": [
       "{'roc_auc': 0.5962393162393163}"
      ]
     },
     "execution_count": 21,
     "metadata": {},
     "output_type": "execute_result"
    }
   ],
   "source": [
    "predictor.save(\"models/mm-binclass-model\") # saving final model "
   ]
  },
  {
   "cell_type": "markdown",
   "id": "2d4b62d6",
   "metadata": {},
   "source": [
    "### Train without Images \n",
    "Train non-image model on same data with image column dropped "
   ]
  },
  {
   "cell_type": "code",
   "execution_count": 17,
   "id": "e4f6d229",
   "metadata": {},
   "outputs": [],
   "source": [
    "train_no_images = train_sample.drop(\"Image\", axis=1)"
   ]
  },
  {
   "cell_type": "code",
   "execution_count": 18,
   "id": "c4f90312",
   "metadata": {},
   "outputs": [
    {
     "name": "stderr",
     "output_type": "stream",
     "text": [
      "Global seed set to 123\n",
      "No path specified. Models will be saved in: \"AutogluonModels/ag-20230420_202741/\"\n",
      "AutoMM starts to create your model. ✨\n",
      "\n",
      "- Model will be saved to \"/home/ec2-user/AutogluonModels/ag-20230420_202741\".\n",
      "\n",
      "- Validation metric is \"roc_auc\".\n",
      "\n",
      "- To track the learning progress, you can open a terminal and launch Tensorboard:\n",
      "    ```shell\n",
      "    # Assume you have installed tensorboard\n",
      "    tensorboard --logdir /home/ec2-user/AutogluonModels/ag-20230420_202741\n",
      "    ```\n",
      "\n",
      "Enjoy your coffee, and let AutoMM do the job ☕☕☕ Learn more at https://auto.gluon.ai\n",
      "\n",
      "GPU available: False, used: False\n",
      "TPU available: False, using: 0 TPU cores\n",
      "IPU available: False, using: 0 IPUs\n",
      "HPU available: False, using: 0 HPUs\n",
      "\n",
      "  | Name              | Type                | Params\n",
      "----------------------------------------------------------\n",
      "0 | model             | MultimodalFusionMLP | 13.7 M\n",
      "1 | validation_metric | AUROC               | 0     \n",
      "2 | loss_func         | CrossEntropyLoss    | 0     \n",
      "----------------------------------------------------------\n",
      "13.7 M    Trainable params\n",
      "0         Non-trainable params\n",
      "13.7 M    Total params\n",
      "54.602    Total estimated model params size (MB)\n"
     ]
    },
    {
     "name": "stdout",
     "output_type": "stream",
     "text": [
      "Epoch 0:  33%|████▋         | 40/120 [01:16<02:33,  1.92s/it, loss=1.18, v_num=]\n",
      "Validation: 0it [00:00, ?it/s]\u001b[A\n",
      "Validation:   0%|                                        | 0/20 [00:00<?, ?it/s]\u001b[A\n",
      "Validation DataLoader 0:   0%|                           | 0/20 [00:00<?, ?it/s]\u001b[A\n",
      "Epoch 0:  34%|████▊         | 41/120 [01:17<02:29,  1.89s/it, loss=1.18, v_num=]\u001b[A\n",
      "Epoch 0:  35%|████▉         | 42/120 [01:18<02:25,  1.86s/it, loss=1.18, v_num=]\u001b[A\n",
      "Epoch 0:  36%|█████         | 43/120 [01:18<02:20,  1.83s/it, loss=1.18, v_num=]\u001b[A\n",
      "Epoch 0:  37%|█████▏        | 44/120 [01:19<02:17,  1.81s/it, loss=1.18, v_num=]\u001b[A\n",
      "Epoch 0:  38%|█████▎        | 45/120 [01:20<02:13,  1.79s/it, loss=1.18, v_num=]\u001b[A\n",
      "Epoch 0:  38%|█████▎        | 46/120 [01:21<02:11,  1.77s/it, loss=1.18, v_num=]\u001b[A\n",
      "Epoch 0:  39%|█████▍        | 47/120 [01:22<02:08,  1.76s/it, loss=1.18, v_num=]\u001b[A\n",
      "Epoch 0:  40%|█████▌        | 48/120 [01:23<02:04,  1.73s/it, loss=1.18, v_num=]\u001b[A\n",
      "Epoch 0:  41%|█████▋        | 49/120 [01:23<02:01,  1.71s/it, loss=1.18, v_num=]\u001b[A\n",
      "Epoch 0:  42%|█████▊        | 50/120 [01:24<01:57,  1.68s/it, loss=1.18, v_num=]\u001b[A\n",
      "Epoch 0:  42%|█████▉        | 51/120 [01:24<01:54,  1.66s/it, loss=1.18, v_num=]\u001b[A\n",
      "Epoch 0:  43%|██████        | 52/120 [01:24<01:50,  1.63s/it, loss=1.18, v_num=]\u001b[A\n",
      "Epoch 0:  44%|██████▏       | 53/120 [01:25<01:47,  1.61s/it, loss=1.18, v_num=]\u001b[A\n",
      "Epoch 0:  45%|██████▎       | 54/120 [01:25<01:44,  1.59s/it, loss=1.18, v_num=]\u001b[A\n",
      "Epoch 0:  46%|██████▍       | 55/120 [01:26<01:41,  1.56s/it, loss=1.18, v_num=]\u001b[A\n",
      "Epoch 0:  47%|██████▌       | 56/120 [01:26<01:38,  1.55s/it, loss=1.18, v_num=]\u001b[A\n",
      "Epoch 0:  48%|██████▋       | 57/120 [01:27<01:36,  1.53s/it, loss=1.18, v_num=]\u001b[A\n",
      "Epoch 0:  48%|██████▊       | 58/120 [01:27<01:33,  1.51s/it, loss=1.18, v_num=]\u001b[A\n",
      "Epoch 0:  49%|██████▉       | 59/120 [01:27<01:30,  1.49s/it, loss=1.18, v_num=]\u001b[A\n",
      "Epoch 0:  50%|███████       | 60/120 [01:27<01:27,  1.47s/it, loss=1.18, v_num=]\u001b[A\n",
      "                                                                                \u001b[A"
     ]
    },
    {
     "name": "stderr",
     "output_type": "stream",
     "text": [
      "Epoch 0, global step 2: 'val_roc_auc' reached 0.52407 (best 0.52407), saving model to '/home/ec2-user/AutogluonModels/ag-20230420_202741/epoch=0-step=2.ckpt' as top 3\n"
     ]
    },
    {
     "name": "stdout",
     "output_type": "stream",
     "text": [
      "Epoch 0:  83%|██████████  | 100/120 [02:37<00:31,  1.57s/it, loss=0.925, v_num=]\n",
      "Validation: 0it [00:00, ?it/s]\u001b[A\n",
      "Validation:   0%|                                        | 0/20 [00:00<?, ?it/s]\u001b[A\n",
      "Validation DataLoader 0:   0%|                           | 0/20 [00:00<?, ?it/s]\u001b[A\n",
      "Epoch 0:  84%|██████████  | 101/120 [02:37<00:29,  1.56s/it, loss=0.925, v_num=]\u001b[A\n",
      "Epoch 0:  85%|██████████▏ | 102/120 [02:38<00:27,  1.56s/it, loss=0.925, v_num=]\u001b[A\n",
      "Epoch 0:  86%|██████████▎ | 103/120 [02:38<00:26,  1.54s/it, loss=0.925, v_num=]\u001b[A\n",
      "Epoch 0:  87%|██████████▍ | 104/120 [02:39<00:24,  1.54s/it, loss=0.925, v_num=]\u001b[A\n",
      "Epoch 0:  88%|██████████▌ | 105/120 [02:40<00:22,  1.53s/it, loss=0.925, v_num=]\u001b[A\n",
      "Epoch 0:  88%|██████████▌ | 106/120 [02:41<00:21,  1.53s/it, loss=0.925, v_num=]\u001b[A\n",
      "Epoch 0:  89%|██████████▋ | 107/120 [02:43<00:19,  1.52s/it, loss=0.925, v_num=]\u001b[A\n",
      "Epoch 0:  90%|██████████▊ | 108/120 [02:43<00:18,  1.51s/it, loss=0.925, v_num=]\u001b[A\n",
      "Epoch 0:  91%|██████████▉ | 109/120 [02:44<00:16,  1.50s/it, loss=0.925, v_num=]\u001b[A\n",
      "Epoch 0:  92%|███████████ | 110/120 [02:44<00:14,  1.50s/it, loss=0.925, v_num=]\u001b[A\n",
      "Epoch 0:  92%|███████████ | 111/120 [02:44<00:13,  1.49s/it, loss=0.925, v_num=]\u001b[A\n",
      "Epoch 0:  93%|███████████▏| 112/120 [02:45<00:11,  1.48s/it, loss=0.925, v_num=]\u001b[A\n",
      "Epoch 0:  94%|███████████▎| 113/120 [02:45<00:10,  1.47s/it, loss=0.925, v_num=]\u001b[A\n",
      "Epoch 0:  95%|███████████▍| 114/120 [02:46<00:08,  1.46s/it, loss=0.925, v_num=]\u001b[A\n",
      "Epoch 0:  96%|███████████▌| 115/120 [02:46<00:07,  1.45s/it, loss=0.925, v_num=]\u001b[A\n",
      "Epoch 0:  97%|███████████▌| 116/120 [02:47<00:05,  1.44s/it, loss=0.925, v_num=]\u001b[A\n",
      "Epoch 0:  98%|███████████▋| 117/120 [02:47<00:04,  1.43s/it, loss=0.925, v_num=]\u001b[A\n",
      "Epoch 0:  98%|███████████▊| 118/120 [02:48<00:02,  1.42s/it, loss=0.925, v_num=]\u001b[A\n",
      "Epoch 0:  99%|███████████▉| 119/120 [02:48<00:01,  1.41s/it, loss=0.925, v_num=]\u001b[A\n",
      "Epoch 0: 100%|████████████| 120/120 [02:48<00:00,  1.40s/it, loss=0.925, v_num=]\u001b[A\n",
      "                                                                                \u001b[A"
     ]
    },
    {
     "name": "stderr",
     "output_type": "stream",
     "text": [
      "Epoch 0, global step 5: 'val_roc_auc' reached 0.56551 (best 0.56551), saving model to '/home/ec2-user/AutogluonModels/ag-20230420_202741/epoch=0-step=5.ckpt' as top 3\n"
     ]
    },
    {
     "name": "stdout",
     "output_type": "stream",
     "text": [
      "Epoch 1:  33%|████▎        | 40/120 [00:59<01:59,  1.49s/it, loss=0.944, v_num=]\n",
      "Validation: 0it [00:00, ?it/s]\u001b[A\n",
      "Validation:   0%|                                        | 0/20 [00:00<?, ?it/s]\u001b[A\n",
      "Validation DataLoader 0:   0%|                           | 0/20 [00:00<?, ?it/s]\u001b[A\n",
      "Epoch 1:  34%|████▍        | 41/120 [01:00<01:56,  1.47s/it, loss=0.944, v_num=]\u001b[A\n",
      "Epoch 1:  35%|████▌        | 42/120 [01:01<01:53,  1.45s/it, loss=0.944, v_num=]\u001b[A\n",
      "Epoch 1:  36%|████▋        | 43/120 [01:01<01:49,  1.43s/it, loss=0.944, v_num=]\u001b[A\n",
      "Epoch 1:  37%|████▊        | 44/120 [01:02<01:47,  1.42s/it, loss=0.944, v_num=]\u001b[A\n",
      "Epoch 1:  38%|████▉        | 45/120 [01:03<01:45,  1.40s/it, loss=0.944, v_num=]\u001b[A\n",
      "Epoch 1:  38%|████▉        | 46/120 [01:04<01:43,  1.40s/it, loss=0.944, v_num=]\u001b[A\n",
      "Epoch 1:  39%|█████        | 47/120 [01:05<01:41,  1.39s/it, loss=0.944, v_num=]\u001b[A\n",
      "Epoch 1:  40%|█████▏       | 48/120 [01:05<01:38,  1.37s/it, loss=0.944, v_num=]\u001b[A\n",
      "Epoch 1:  41%|█████▎       | 49/120 [01:06<01:36,  1.36s/it, loss=0.944, v_num=]\u001b[A\n",
      "Epoch 1:  42%|█████▍       | 50/120 [01:07<01:33,  1.34s/it, loss=0.944, v_num=]\u001b[A\n",
      "Epoch 1:  42%|█████▌       | 51/120 [01:07<01:31,  1.32s/it, loss=0.944, v_num=]\u001b[A\n",
      "Epoch 1:  43%|█████▋       | 52/120 [01:07<01:28,  1.30s/it, loss=0.944, v_num=]\u001b[A\n",
      "Epoch 1:  44%|█████▋       | 53/120 [01:08<01:26,  1.29s/it, loss=0.944, v_num=]\u001b[A\n",
      "Epoch 1:  45%|█████▊       | 54/120 [01:08<01:23,  1.27s/it, loss=0.944, v_num=]\u001b[A\n",
      "Epoch 1:  46%|█████▉       | 55/120 [01:08<01:21,  1.25s/it, loss=0.944, v_num=]\u001b[A\n",
      "Epoch 1:  47%|██████       | 56/120 [01:09<01:19,  1.24s/it, loss=0.944, v_num=]\u001b[A\n",
      "Epoch 1:  48%|██████▏      | 57/120 [01:09<01:17,  1.23s/it, loss=0.944, v_num=]\u001b[A\n",
      "Epoch 1:  48%|██████▎      | 58/120 [01:10<01:15,  1.21s/it, loss=0.944, v_num=]\u001b[A\n",
      "Epoch 1:  49%|██████▍      | 59/120 [01:10<01:12,  1.20s/it, loss=0.944, v_num=]\u001b[A\n",
      "Epoch 1:  50%|██████▌      | 60/120 [01:10<01:10,  1.18s/it, loss=0.944, v_num=]\u001b[A\n",
      "                                                                                \u001b[A"
     ]
    },
    {
     "name": "stderr",
     "output_type": "stream",
     "text": [
      "Epoch 1, global step 7: 'val_roc_auc' reached 0.55052 (best 0.56551), saving model to '/home/ec2-user/AutogluonModels/ag-20230420_202741/epoch=1-step=7.ckpt' as top 3\n"
     ]
    },
    {
     "name": "stdout",
     "output_type": "stream",
     "text": [
      "Epoch 1:  83%|██████████  | 100/120 [02:31<00:30,  1.52s/it, loss=0.962, v_num=]\n",
      "Validation: 0it [00:00, ?it/s]\u001b[A\n",
      "Validation:   0%|                                        | 0/20 [00:00<?, ?it/s]\u001b[A\n",
      "Validation DataLoader 0:   0%|                           | 0/20 [00:00<?, ?it/s]\u001b[A\n",
      "Epoch 1:  84%|██████████  | 101/120 [02:32<00:28,  1.51s/it, loss=0.962, v_num=]\u001b[A\n",
      "Epoch 1:  85%|██████████▏ | 102/120 [02:33<00:27,  1.50s/it, loss=0.962, v_num=]\u001b[A\n",
      "Epoch 1:  86%|██████████▎ | 103/120 [02:33<00:25,  1.49s/it, loss=0.962, v_num=]\u001b[A\n",
      "Epoch 1:  87%|██████████▍ | 104/120 [02:34<00:23,  1.48s/it, loss=0.962, v_num=]\u001b[A\n",
      "Epoch 1:  88%|██████████▌ | 105/120 [02:35<00:22,  1.48s/it, loss=0.962, v_num=]\u001b[A\n",
      "Epoch 1:  88%|██████████▌ | 106/120 [02:36<00:20,  1.47s/it, loss=0.962, v_num=]\u001b[A\n",
      "Epoch 1:  89%|██████████▋ | 107/120 [02:37<00:19,  1.47s/it, loss=0.962, v_num=]\u001b[A\n",
      "Epoch 1:  90%|██████████▊ | 108/120 [02:37<00:17,  1.46s/it, loss=0.962, v_num=]\u001b[A\n",
      "Epoch 1:  91%|██████████▉ | 109/120 [02:38<00:15,  1.45s/it, loss=0.962, v_num=]\u001b[A\n",
      "Epoch 1:  92%|███████████ | 110/120 [02:38<00:14,  1.44s/it, loss=0.962, v_num=]\u001b[A\n",
      "Epoch 1:  92%|███████████ | 111/120 [02:39<00:12,  1.43s/it, loss=0.962, v_num=]\u001b[A\n",
      "Epoch 1:  93%|███████████▏| 112/120 [02:39<00:11,  1.42s/it, loss=0.962, v_num=]\u001b[A\n",
      "Epoch 1:  94%|███████████▎| 113/120 [02:39<00:09,  1.41s/it, loss=0.962, v_num=]\u001b[A\n",
      "Epoch 1:  95%|███████████▍| 114/120 [02:40<00:08,  1.41s/it, loss=0.962, v_num=]\u001b[A\n",
      "Epoch 1:  96%|███████████▌| 115/120 [02:40<00:06,  1.40s/it, loss=0.962, v_num=]\u001b[A\n",
      "Epoch 1:  97%|███████████▌| 116/120 [02:40<00:05,  1.39s/it, loss=0.962, v_num=]\u001b[A\n",
      "Epoch 1:  98%|███████████▋| 117/120 [02:41<00:04,  1.38s/it, loss=0.962, v_num=]\u001b[A\n",
      "Epoch 1:  98%|███████████▊| 118/120 [02:41<00:02,  1.37s/it, loss=0.962, v_num=]\u001b[A\n",
      "Epoch 1:  99%|███████████▉| 119/120 [02:42<00:01,  1.36s/it, loss=0.962, v_num=]\u001b[A\n",
      "Epoch 1: 100%|████████████| 120/120 [02:42<00:00,  1.35s/it, loss=0.962, v_num=]\u001b[A\n",
      "                                                                                \u001b[A"
     ]
    },
    {
     "name": "stderr",
     "output_type": "stream",
     "text": [
      "Epoch 1, global step 10: 'val_roc_auc' reached 0.53095 (best 0.56551), saving model to '/home/ec2-user/AutogluonModels/ag-20230420_202741/epoch=1-step=10.ckpt' as top 3\n"
     ]
    },
    {
     "name": "stdout",
     "output_type": "stream",
     "text": [
      "Epoch 2:  33%|████▎        | 40/120 [01:12<02:25,  1.82s/it, loss=0.887, v_num=]\n",
      "Validation: 0it [00:00, ?it/s]\u001b[A\n",
      "Validation:   0%|                                        | 0/20 [00:00<?, ?it/s]\u001b[A\n",
      "Validation DataLoader 0:   0%|                           | 0/20 [00:00<?, ?it/s]\u001b[A\n",
      "Epoch 2:  34%|████▍        | 41/120 [01:13<02:21,  1.79s/it, loss=0.887, v_num=]\u001b[A\n",
      "Epoch 2:  35%|████▌        | 42/120 [01:14<02:17,  1.77s/it, loss=0.887, v_num=]\u001b[A\n",
      "Epoch 2:  36%|████▋        | 43/120 [01:14<02:13,  1.73s/it, loss=0.887, v_num=]\u001b[A\n",
      "Epoch 2:  37%|████▊        | 44/120 [01:15<02:10,  1.72s/it, loss=0.887, v_num=]\u001b[A\n",
      "Epoch 2:  38%|████▉        | 45/120 [01:16<02:07,  1.70s/it, loss=0.887, v_num=]\u001b[A\n",
      "Epoch 2:  38%|████▉        | 46/120 [01:17<02:04,  1.69s/it, loss=0.887, v_num=]\u001b[A\n",
      "Epoch 2:  39%|█████        | 47/120 [01:18<02:02,  1.67s/it, loss=0.887, v_num=]\u001b[A\n",
      "Epoch 2:  40%|█████▏       | 48/120 [01:19<01:58,  1.65s/it, loss=0.887, v_num=]\u001b[A\n",
      "Epoch 2:  41%|█████▎       | 49/120 [01:19<01:55,  1.63s/it, loss=0.887, v_num=]\u001b[A\n",
      "Epoch 2:  42%|█████▍       | 50/120 [01:20<01:52,  1.61s/it, loss=0.887, v_num=]\u001b[A\n",
      "Epoch 2:  42%|█████▌       | 51/120 [01:20<01:49,  1.58s/it, loss=0.887, v_num=]\u001b[A\n",
      "Epoch 2:  43%|█████▋       | 52/120 [01:21<01:45,  1.56s/it, loss=0.887, v_num=]\u001b[A\n",
      "Epoch 2:  44%|█████▋       | 53/120 [01:21<01:42,  1.54s/it, loss=0.887, v_num=]\u001b[A\n",
      "Epoch 2:  45%|█████▊       | 54/120 [01:21<01:40,  1.52s/it, loss=0.887, v_num=]\u001b[A\n",
      "Epoch 2:  46%|█████▉       | 55/120 [01:22<01:37,  1.49s/it, loss=0.887, v_num=]\u001b[A\n",
      "Epoch 2:  47%|██████       | 56/120 [01:22<01:34,  1.48s/it, loss=0.887, v_num=]\u001b[A\n",
      "Epoch 2:  48%|██████▏      | 57/120 [01:23<01:32,  1.46s/it, loss=0.887, v_num=]\u001b[A\n",
      "Epoch 2:  48%|██████▎      | 58/120 [01:23<01:29,  1.44s/it, loss=0.887, v_num=]\u001b[A\n",
      "Epoch 2:  49%|██████▍      | 59/120 [01:23<01:26,  1.42s/it, loss=0.887, v_num=]\u001b[A\n",
      "Epoch 2:  50%|██████▌      | 60/120 [01:24<01:24,  1.40s/it, loss=0.887, v_num=]\u001b[A\n",
      "                                                                                \u001b[A"
     ]
    },
    {
     "name": "stderr",
     "output_type": "stream",
     "text": [
      "Epoch 2, global step 12: 'val_roc_auc' was not in top 3\n"
     ]
    },
    {
     "name": "stdout",
     "output_type": "stream",
     "text": [
      "Epoch 2:  83%|██████████  | 100/120 [02:38<00:31,  1.59s/it, loss=0.804, v_num=]\n",
      "Validation: 0it [00:00, ?it/s]\u001b[A\n",
      "Validation:   0%|                                        | 0/20 [00:00<?, ?it/s]\u001b[A\n",
      "Validation DataLoader 0:   0%|                           | 0/20 [00:00<?, ?it/s]\u001b[A\n",
      "Epoch 2:  84%|██████████  | 101/120 [02:39<00:30,  1.58s/it, loss=0.804, v_num=]\u001b[A\n",
      "Epoch 2:  85%|██████████▏ | 102/120 [02:40<00:28,  1.57s/it, loss=0.804, v_num=]\u001b[A\n",
      "Epoch 2:  86%|██████████▎ | 103/120 [02:40<00:26,  1.56s/it, loss=0.804, v_num=]\u001b[A\n",
      "Epoch 2:  87%|██████████▍ | 104/120 [02:41<00:24,  1.55s/it, loss=0.804, v_num=]\u001b[A\n",
      "Epoch 2:  88%|██████████▌ | 105/120 [02:42<00:23,  1.55s/it, loss=0.804, v_num=]\u001b[A\n",
      "Epoch 2:  88%|██████████▌ | 106/120 [02:43<00:21,  1.54s/it, loss=0.804, v_num=]\u001b[A\n",
      "Epoch 2:  89%|██████████▋ | 107/120 [02:44<00:20,  1.54s/it, loss=0.804, v_num=]\u001b[A\n",
      "Epoch 2:  90%|██████████▊ | 108/120 [02:45<00:18,  1.53s/it, loss=0.804, v_num=]\u001b[A\n",
      "Epoch 2:  91%|██████████▉ | 109/120 [02:45<00:16,  1.52s/it, loss=0.804, v_num=]\u001b[A\n",
      "Epoch 2:  92%|███████████ | 110/120 [02:45<00:15,  1.51s/it, loss=0.804, v_num=]\u001b[A\n",
      "Epoch 2:  92%|███████████ | 111/120 [02:46<00:13,  1.50s/it, loss=0.804, v_num=]\u001b[A\n",
      "Epoch 2:  93%|███████████▏| 112/120 [02:46<00:11,  1.49s/it, loss=0.804, v_num=]\u001b[A\n",
      "Epoch 2:  94%|███████████▎| 113/120 [02:47<00:10,  1.48s/it, loss=0.804, v_num=]\u001b[A\n",
      "Epoch 2:  95%|███████████▍| 114/120 [02:47<00:08,  1.47s/it, loss=0.804, v_num=]\u001b[A\n",
      "Epoch 2:  96%|███████████▌| 115/120 [02:47<00:07,  1.46s/it, loss=0.804, v_num=]\u001b[A\n",
      "Epoch 2:  97%|███████████▌| 116/120 [02:48<00:05,  1.45s/it, loss=0.804, v_num=]\u001b[A\n",
      "Epoch 2:  98%|███████████▋| 117/120 [02:48<00:04,  1.44s/it, loss=0.804, v_num=]\u001b[A\n",
      "Epoch 2:  98%|███████████▊| 118/120 [02:49<00:02,  1.43s/it, loss=0.804, v_num=]\u001b[A\n",
      "Epoch 2:  99%|███████████▉| 119/120 [02:49<00:01,  1.43s/it, loss=0.804, v_num=]\u001b[A\n",
      "Epoch 2: 100%|████████████| 120/120 [02:49<00:00,  1.42s/it, loss=0.804, v_num=]\u001b[A\n",
      "                                                                                \u001b[A"
     ]
    },
    {
     "name": "stderr",
     "output_type": "stream",
     "text": [
      "Epoch 2, global step 15: 'val_roc_auc' was not in top 3\n"
     ]
    },
    {
     "name": "stdout",
     "output_type": "stream",
     "text": [
      "Epoch 3:  33%|████▎        | 40/120 [01:06<02:12,  1.66s/it, loss=0.912, v_num=]\n",
      "Validation: 0it [00:00, ?it/s]\u001b[A\n",
      "Validation:   0%|                                        | 0/20 [00:00<?, ?it/s]\u001b[A\n",
      "Validation DataLoader 0:   0%|                           | 0/20 [00:00<?, ?it/s]\u001b[A\n",
      "Epoch 3:  34%|████▍        | 41/120 [01:07<02:09,  1.64s/it, loss=0.912, v_num=]\u001b[A\n",
      "Epoch 3:  35%|████▌        | 42/120 [01:07<02:06,  1.62s/it, loss=0.912, v_num=]\u001b[A\n",
      "Epoch 3:  36%|████▋        | 43/120 [01:08<02:02,  1.59s/it, loss=0.912, v_num=]\u001b[A\n",
      "Epoch 3:  37%|████▊        | 44/120 [01:09<01:59,  1.57s/it, loss=0.912, v_num=]\u001b[A\n",
      "Epoch 3:  38%|████▉        | 45/120 [01:10<01:56,  1.56s/it, loss=0.912, v_num=]\u001b[A\n",
      "Epoch 3:  38%|████▉        | 46/120 [01:11<01:54,  1.55s/it, loss=0.912, v_num=]\u001b[A\n",
      "Epoch 3:  39%|█████        | 47/120 [01:12<01:52,  1.54s/it, loss=0.912, v_num=]\u001b[A\n",
      "Epoch 3:  40%|█████▏       | 48/120 [01:12<01:49,  1.52s/it, loss=0.912, v_num=]\u001b[A\n",
      "Epoch 3:  41%|█████▎       | 49/120 [01:13<01:46,  1.49s/it, loss=0.912, v_num=]\u001b[A\n",
      "Epoch 3:  42%|█████▍       | 50/120 [01:13<01:43,  1.47s/it, loss=0.912, v_num=]\u001b[A\n",
      "Epoch 3:  42%|█████▌       | 51/120 [01:13<01:40,  1.45s/it, loss=0.912, v_num=]\u001b[A\n",
      "Epoch 3:  43%|█████▋       | 52/120 [01:14<01:37,  1.43s/it, loss=0.912, v_num=]\u001b[A\n",
      "Epoch 3:  44%|█████▋       | 53/120 [01:14<01:34,  1.41s/it, loss=0.912, v_num=]\u001b[A\n",
      "Epoch 3:  45%|█████▊       | 54/120 [01:15<01:32,  1.40s/it, loss=0.912, v_num=]\u001b[A\n",
      "Epoch 3:  46%|█████▉       | 55/120 [01:15<01:29,  1.38s/it, loss=0.912, v_num=]\u001b[A\n",
      "Epoch 3:  47%|██████       | 56/120 [01:16<01:26,  1.36s/it, loss=0.912, v_num=]\u001b[A\n",
      "Epoch 3:  48%|██████▏      | 57/120 [01:16<01:24,  1.35s/it, loss=0.912, v_num=]\u001b[A\n",
      "Epoch 3:  48%|██████▎      | 58/120 [01:17<01:22,  1.33s/it, loss=0.912, v_num=]\u001b[A\n",
      "Epoch 3:  49%|██████▍      | 59/120 [01:17<01:19,  1.31s/it, loss=0.912, v_num=]\u001b[A\n",
      "Epoch 3:  50%|██████▌      | 60/120 [01:17<01:17,  1.29s/it, loss=0.912, v_num=]\u001b[A\n",
      "                                                                                \u001b[A"
     ]
    },
    {
     "name": "stderr",
     "output_type": "stream",
     "text": [
      "Epoch 3, global step 17: 'val_roc_auc' was not in top 3\n"
     ]
    },
    {
     "name": "stdout",
     "output_type": "stream",
     "text": [
      "Epoch 3:  57%|███████▎     | 68/120 [01:34<01:12,  1.39s/it, loss=0.839, v_num=]"
     ]
    },
    {
     "name": "stderr",
     "output_type": "stream",
     "text": [
      "Time limit reached. Elapsed time is 0:10:00. Signaling Trainer to stop.\n"
     ]
    },
    {
     "name": "stdout",
     "output_type": "stream",
     "text": [
      "Epoch 3:  57%|███████▍     | 69/120 [01:35<01:10,  1.39s/it, loss=0.835, v_num=]\n",
      "Validation: 0it [00:00, ?it/s]\u001b[A\n",
      "Validation:   0%|                                        | 0/20 [00:00<?, ?it/s]\u001b[A\n",
      "Validation DataLoader 0:   0%|                           | 0/20 [00:00<?, ?it/s]\u001b[A\n",
      "Epoch 3:  58%|███████▌     | 70/120 [01:36<01:08,  1.38s/it, loss=0.835, v_num=]\u001b[A\n",
      "Epoch 3:  59%|███████▋     | 71/120 [01:37<01:07,  1.37s/it, loss=0.835, v_num=]\u001b[A\n",
      "Epoch 3:  60%|███████▊     | 72/120 [01:37<01:04,  1.35s/it, loss=0.835, v_num=]\u001b[A\n",
      "Epoch 3:  61%|███████▉     | 73/120 [01:38<01:03,  1.35s/it, loss=0.835, v_num=]\u001b[A\n",
      "Epoch 3:  62%|████████     | 74/120 [01:39<01:01,  1.34s/it, loss=0.835, v_num=]\u001b[A\n",
      "Epoch 3:  62%|████████▏    | 75/120 [01:40<01:00,  1.34s/it, loss=0.835, v_num=]\u001b[A\n",
      "Epoch 3:  63%|████████▏    | 76/120 [01:41<00:58,  1.34s/it, loss=0.835, v_num=]\u001b[A\n",
      "Epoch 3:  64%|████████▎    | 77/120 [01:42<00:57,  1.33s/it, loss=0.835, v_num=]\u001b[A\n",
      "Epoch 3:  65%|████████▍    | 78/120 [01:42<00:55,  1.32s/it, loss=0.835, v_num=]\u001b[A\n",
      "Epoch 3:  66%|████████▌    | 79/120 [01:43<00:53,  1.30s/it, loss=0.835, v_num=]\u001b[A\n",
      "Epoch 3:  67%|████████▋    | 80/120 [01:43<00:51,  1.29s/it, loss=0.835, v_num=]\u001b[A\n",
      "Epoch 3:  68%|████████▊    | 81/120 [01:43<00:49,  1.28s/it, loss=0.835, v_num=]\u001b[A\n",
      "Epoch 3:  68%|████████▉    | 82/120 [01:44<00:48,  1.27s/it, loss=0.835, v_num=]\u001b[A\n",
      "Epoch 3:  69%|████████▉    | 83/120 [01:44<00:46,  1.26s/it, loss=0.835, v_num=]\u001b[A\n",
      "Epoch 3:  70%|█████████    | 84/120 [01:44<00:44,  1.25s/it, loss=0.835, v_num=]\u001b[A\n",
      "Epoch 3:  71%|█████████▏   | 85/120 [01:45<00:43,  1.24s/it, loss=0.835, v_num=]\u001b[A\n",
      "Epoch 3:  72%|█████████▎   | 86/120 [01:46<00:41,  1.23s/it, loss=0.835, v_num=]\u001b[A\n",
      "Epoch 3:  72%|█████████▍   | 87/120 [01:46<00:40,  1.22s/it, loss=0.835, v_num=]\u001b[A\n",
      "Epoch 3:  73%|█████████▌   | 88/120 [01:47<00:38,  1.22s/it, loss=0.835, v_num=]\u001b[A\n",
      "Epoch 3:  74%|█████████▋   | 89/120 [01:47<00:37,  1.21s/it, loss=0.835, v_num=]\u001b[A\n",
      "                                                                                \u001b[A"
     ]
    },
    {
     "name": "stderr",
     "output_type": "stream",
     "text": [
      "Epoch 3, global step 18: 'val_roc_auc' reached 0.55863 (best 0.56551), saving model to '/home/ec2-user/AutogluonModels/ag-20230420_202741/epoch=3-step=18.ckpt' as top 3\n"
     ]
    },
    {
     "name": "stdout",
     "output_type": "stream",
     "text": [
      "Epoch 3:  74%|█████████▋   | 89/120 [01:48<00:37,  1.22s/it, loss=0.835, v_num=]"
     ]
    },
    {
     "name": "stderr",
     "output_type": "stream",
     "text": [
      "Start to fuse 3 checkpoints via the greedy soup algorithm.\n"
     ]
    },
    {
     "name": "stdout",
     "output_type": "stream",
     "text": [
      "\n",
      "Predicting DataLoader 0: 100%|████████████████████| 5/5 [00:17<00:00,  3.44s/it]\n",
      "Predicting DataLoader 0: 100%|████████████████████| 5/5 [00:16<00:00,  3.39s/it]\n",
      "Predicting DataLoader 0: 100%|████████████████████| 5/5 [00:16<00:00,  3.38s/it]\n"
     ]
    },
    {
     "name": "stderr",
     "output_type": "stream",
     "text": [
      "AutoMM has created your model 🎉🎉🎉\n",
      "\n",
      "- To load the model, use the code below:\n",
      "    ```python\n",
      "    from autogluon.multimodal import MultiModalPredictor\n",
      "    predictor = MultiModalPredictor.load(\"/home/ec2-user/AutogluonModels/ag-20230420_202741\")\n",
      "    ```\n",
      "\n",
      "- You can open a terminal and launch Tensorboard to visualize the training log:\n",
      "    ```shell\n",
      "    # Assume you have installed tensorboard\n",
      "    tensorboard --logdir /home/ec2-user/AutogluonModels/ag-20230420_202741\n",
      "    ```\n",
      "\n",
      "- If you are not satisfied with the model, try to increase the training time, \n",
      "adjust the hyperparameters (https://auto.gluon.ai/stable/tutorials/multimodal/advanced_topics/customization.html),\n",
      "or post issues on GitHub: https://github.com/autogluon/autogluon\n",
      "\n",
      "\n"
     ]
    },
    {
     "data": {
      "text/plain": [
       "<autogluon.multimodal.predictor.MultiModalPredictor at 0x7f385a7c1c10>"
      ]
     },
     "execution_count": 18,
     "metadata": {},
     "output_type": "execute_result"
    }
   ],
   "source": [
    "predictor = MultiModalPredictor(label=\"AdoptionSpeed\", \n",
    "                                presets='medium_quality')\n",
    "predictor.fit(\n",
    "    train_data=train_no_images,\n",
    "    time_limit=600, # seconds\n",
    ")"
   ]
  },
  {
   "cell_type": "code",
   "execution_count": 20,
   "id": "fa206315",
   "metadata": {},
   "outputs": [],
   "source": [
    "predictor.save(\"models/nim-binclass-model\")"
   ]
  }
 ],
 "metadata": {
  "kernelspec": {
   "display_name": "Python 3 (ipykernel)",
   "language": "python",
   "name": "python3"
  },
  "language_info": {
   "codemirror_mode": {
    "name": "ipython",
    "version": 3
   },
   "file_extension": ".py",
   "mimetype": "text/x-python",
   "name": "python",
   "nbconvert_exporter": "python",
   "pygments_lexer": "ipython3",
   "version": "3.10.6"
  }
 },
 "nbformat": 4,
 "nbformat_minor": 5
}
